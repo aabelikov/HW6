{
 "cells": [
  {
   "cell_type": "markdown",
   "metadata": {},
   "source": [
    "# Домашнее задание к лекции \"Работа с файловой системой и модули\" (Беликов Александр)"
   ]
  },
  {
   "cell_type": "markdown",
   "metadata": {},
   "source": [
    "### Задание.\n",
    "Переведите содержимое файла purchase_log.txt в словарь purchases вида: {‘1840e0b9d4’: ‘Продукты’, …}\n",
    "Для каждого user_id в файле visit_log.csv определите третий столбец с категорией покупки (если покупка была, сам файл visit_log.csv изменять не надо). Запишите в файл funnel.csv визиты из файла visit_log.csv, в которых были покупки с указанием категории. Учтите условия на данные: содержимое purchase_log.txt помещается в оперативную память компьютера содержимое visit_log.csv - нет; используйте только построчную обработку этого файла"
   ]
  },
  {
   "cell_type": "code",
   "execution_count": 2,
   "metadata": {},
   "outputs": [],
   "source": [
    "import json"
   ]
  },
  {
   "cell_type": "code",
   "execution_count": 19,
   "metadata": {},
   "outputs": [],
   "source": [
    "purchases = {}\n",
    "with open('purchase_log.txt', 'r', encoding = 'utf-8') as f:\n",
    "    f.readline()\n",
    "    for line in f:\n",
    "        line = line.strip()\n",
    "        n = json.loads(line)\n",
    "        purchases[n['user_id']] = n['category']"
   ]
  },
  {
   "cell_type": "code",
   "execution_count": 20,
   "metadata": {},
   "outputs": [],
   "source": [
    "with open('visit_log.csv', 'r', encoding='utf-8') as f1:\n",
    "    f1.readline()\n",
    "    with open('funnel.csv', 'w', encoding='utf-8') as f2:\n",
    "        f2.write('user_id,source,category\\n')\n",
    "        for line in f1:\n",
    "            line = line.strip().split(',')\n",
    "            if line[0] in purchases:\n",
    "                f2.write(f'{line[0]}, {line[1]}, {purchases[line[0]]} \\n')"
   ]
  }
 ],
 "metadata": {
  "kernelspec": {
   "display_name": "Python 3",
   "language": "python",
   "name": "python3"
  },
  "language_info": {
   "codemirror_mode": {
    "name": "ipython",
    "version": 3
   },
   "file_extension": ".py",
   "mimetype": "text/x-python",
   "name": "python",
   "nbconvert_exporter": "python",
   "pygments_lexer": "ipython3",
   "version": "3.7.6"
  }
 },
 "nbformat": 4,
 "nbformat_minor": 4
}
